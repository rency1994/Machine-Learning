{
 "cells": [
  {
   "cell_type": "markdown",
   "id": "c86c6509-156a-4d38-b3ea-e9da37c8a208",
   "metadata": {},
   "source": [
    "# Q1.Suppose a child psychologist claims that the average time working mothers spend talking to their children is at least 11 minutes per day. You conduct a random sample of 1000 working mothers and find they spend an average of 11.5 minutes per day talking with their children. Assume prior research suggests the population standard deviation is 2.3 minutes. Conduct a test with a level of significance of alpha = 0.05."
   ]
  },
  {
   "cell_type": "code",
   "execution_count": 9,
   "id": "7770f86f-b405-4788-a4fb-e08d8b84bdf8",
   "metadata": {},
   "outputs": [],
   "source": [
    "import math\n",
    "from scipy.stats import norm"
   ]
  },
  {
   "cell_type": "markdown",
   "id": "5a6e41f6-eafd-42fd-8c76-b7ecd1cc22f8",
   "metadata": {},
   "source": [
    "sample_size,n= 1000 \n",
    "sample_mean,x = 11.5\n",
    "population_mean,μo= 11\n",
    "population_std_dev,σ = 2.3\n",
    "level_of_significane,α=0.05"
   ]
  },
  {
   "cell_type": "code",
   "execution_count": 29,
   "id": "ce32a29e-b845-420e-8e13-a4e292784f56",
   "metadata": {},
   "outputs": [],
   "source": [
    "n=1000\n",
    "x=11.5\n",
    "μo= 11\n",
    "σ = 2.3\n",
    "α=0.05\n"
   ]
  },
  {
   "cell_type": "markdown",
   "id": "4336a4bd-fd88-4741-9ebb-831bab90ddf5",
   "metadata": {},
   "source": [
    "#  1.state the hypothesis"
   ]
  },
  {
   "cell_type": "markdown",
   "id": "b9f40854-1250-4a3e-8e6b-7569ba603198",
   "metadata": {},
   "source": [
    "null hypothesis,Ho:μo=11\n",
    "alternative hypothesis,Ha<11(left-tailed)"
   ]
  },
  {
   "cell_type": "markdown",
   "id": "a5e3f5a0-ba67-4479-81bf-e45d7cc15d99",
   "metadata": {},
   "source": [
    "# 2.deciding the test criteria"
   ]
  },
  {
   "cell_type": "code",
   "execution_count": null,
   "id": "2abaecfd-7deb-4f2d-a52f-f120eea76663",
   "metadata": {},
   "outputs": [],
   "source": [
    "sample size is large so we apply z test"
   ]
  },
  {
   "cell_type": "markdown",
   "id": "f50c7b4a-75c1-44a8-97fd-91e20b2703c8",
   "metadata": {},
   "source": [
    "# 3.set the significance level "
   ]
  },
  {
   "cell_type": "code",
   "execution_count": null,
   "id": "b97ea5ac-1073-44d5-bca4-9ee3ccd8daac",
   "metadata": {},
   "outputs": [],
   "source": [
    "α=0.05"
   ]
  },
  {
   "cell_type": "markdown",
   "id": "ec4299de-bf44-49c4-aaaa-a2cdba21c4f9",
   "metadata": {},
   "source": [
    "# 4.calculate the formula value of statistic"
   ]
  },
  {
   "cell_type": "code",
   "execution_count": 30,
   "id": "e3d5ec78-e090-411d-94f0-e87467d9574d",
   "metadata": {},
   "outputs": [
    {
     "name": "stdout",
     "output_type": "stream",
     "text": [
      "z= 6.874516652539955\n"
     ]
    }
   ],
   "source": [
    "z=(x-μo)/(σ/math.sqrt(n))\n",
    "print(\"z=\",z)"
   ]
  },
  {
   "cell_type": "markdown",
   "id": "e2a9d0f8-9f7f-4846-afaa-b1a325144e60",
   "metadata": {},
   "source": [
    "# 5.find the crictical value"
   ]
  },
  {
   "cell_type": "code",
   "execution_count": null,
   "id": "79bcfded-c4f2-4d1a-aab4-2102f7391a75",
   "metadata": {},
   "outputs": [],
   "source": [
    "For a left-tailed test at α=0.05, the critical value is approximately −1.645."
   ]
  },
  {
   "cell_type": "code",
   "execution_count": null,
   "id": "5b78fba6-692c-4128-ac85-61dfb1de9fa1",
   "metadata": {},
   "outputs": [],
   "source": [
    "z=6.874\n",
    "crictical value=1.645 \n",
    "so z value greater than crictical value,then we do not reject null hypothesis."
   ]
  },
  {
   "cell_type": "markdown",
   "id": "644e81e7-4dad-4693-9e17-8cc0e180ecbd",
   "metadata": {},
   "source": [
    "There is enough evidence to support the psychologist's claim that the average time working mothers spend talking to their children is at least 11 minutes per day."
   ]
  },
  {
   "cell_type": "code",
   "execution_count": null,
   "id": "97b1f97a-694b-4088-be8e-70240f7c9284",
   "metadata": {},
   "outputs": [],
   "source": []
  },
  {
   "cell_type": "markdown",
   "id": "a0c59020-93e3-4361-9ee8-fa84475938af",
   "metadata": {},
   "source": [
    "# Q2.A coffee shop claims that their average wait time for customers is less than 5 minutes. To test this claim, a sample of 40 customers is taken, and their wait times are recorded. The sample mean wait time is found to be 4.6 minutes with a standard deviation of 0.8 minutes. Perform a hypothesis test at a significance level of 0.05 and determine whether there is enough evidence to support the coffee shop's claim."
   ]
  },
  {
   "cell_type": "markdown",
   "id": "e13ccc95-6d45-4519-a5b6-8e941136596f",
   "metadata": {},
   "source": [
    "Sample_size,n=40\n",
    "Sample_mean,x=4.6\n",
    "Population_mean,μo=5\n",
    "Standard_deviation,s=0.8\n",
    "Significance_level,alpha,α=0.05\n"
   ]
  },
  {
   "cell_type": "code",
   "execution_count": 32,
   "id": "b45d45c1-b3b8-49a9-9eb0-ea745af2a9cb",
   "metadata": {},
   "outputs": [],
   "source": [
    "n=40\n",
    "x=4.6\n",
    "μo=5\n",
    "s=0.8\n",
    "α=0.05\n"
   ]
  },
  {
   "cell_type": "markdown",
   "id": "4c34acb4-b56d-4e8c-92bf-f8ee33a69445",
   "metadata": {},
   "source": [
    "# 1.state the hypothesis"
   ]
  },
  {
   "cell_type": "code",
   "execution_count": null,
   "id": "cba746a2-b753-4b97-8f0a-08b367a8214d",
   "metadata": {},
   "outputs": [],
   "source": [
    "null hypothesis,Ho:μo=5\n",
    "alternative hypothesis,Ha<5(left-tailed)"
   ]
  },
  {
   "cell_type": "markdown",
   "id": "a45a4c27-1a57-430b-ba0a-b54392e9baef",
   "metadata": {},
   "source": [
    "# 2.deciding the test criteria"
   ]
  },
  {
   "cell_type": "code",
   "execution_count": null,
   "id": "481ebd94-0afc-47cb-ae52-1cef67fc2aeb",
   "metadata": {},
   "outputs": [],
   "source": [
    "sample size is considered as large but population standard deviation is not given so we apply t test"
   ]
  },
  {
   "cell_type": "markdown",
   "id": "865e17a1-b1a4-432e-8604-a09b690eaa50",
   "metadata": {},
   "source": [
    "# 3.set the significance level and degree of freedom"
   ]
  },
  {
   "cell_type": "code",
   "execution_count": null,
   "id": "eec763d2-7664-41ed-a624-33b64a5f1a16",
   "metadata": {},
   "outputs": [],
   "source": [
    "α=0.05\n",
    "dof=n-1"
   ]
  },
  {
   "cell_type": "markdown",
   "id": "aa2f58ac-6c7f-466e-bf9d-1ebd7aa818df",
   "metadata": {},
   "source": [
    "# 4.calculate the formula value of statistic"
   ]
  },
  {
   "cell_type": "code",
   "execution_count": 34,
   "id": "45e7fd42-4763-4aab-82cc-2b84f49c5058",
   "metadata": {},
   "outputs": [
    {
     "name": "stdout",
     "output_type": "stream",
     "text": [
      "t= -3.162277660168382\n"
     ]
    }
   ],
   "source": [
    "t=(x-μo)/(s/math.sqrt(n))\n",
    "print(\"t=\",t)"
   ]
  },
  {
   "cell_type": "markdown",
   "id": "cabc479c-05ef-4b97-9a8e-74b95a7a99c2",
   "metadata": {},
   "source": [
    "# 5.find the crictical value"
   ]
  },
  {
   "cell_type": "code",
   "execution_count": null,
   "id": "25cf04f4-7ed3-44d4-a981-209ebca690e3",
   "metadata": {},
   "outputs": [],
   "source": [
    "For a left-tailed test at α=0.05, the critical value is approximately −1.685."
   ]
  },
  {
   "cell_type": "code",
   "execution_count": null,
   "id": "fcfbbef6-ad01-4d2c-aeca-6bc93107ee0b",
   "metadata": {},
   "outputs": [],
   "source": [
    "t=-3.162\n",
    "crictical value=1.685\n",
    "so t value smaller than crictical value,then  reject null hypothesis."
   ]
  },
  {
   "cell_type": "markdown",
   "id": "0544d88e-5612-4cc7-a2d7-8e260bd41836",
   "metadata": {},
   "source": [
    "There is enough evidence to support the coffee shop's claim that the average wait time for customers is less than 5 minutes."
   ]
  }
 ],
 "metadata": {
  "kernelspec": {
   "display_name": "Python 3 (ipykernel)",
   "language": "python",
   "name": "python3"
  },
  "language_info": {
   "codemirror_mode": {
    "name": "ipython",
    "version": 3
   },
   "file_extension": ".py",
   "mimetype": "text/x-python",
   "name": "python",
   "nbconvert_exporter": "python",
   "pygments_lexer": "ipython3",
   "version": "3.12.3"
  }
 },
 "nbformat": 4,
 "nbformat_minor": 5
}
